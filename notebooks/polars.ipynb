{
 "cells": [
  {
   "cell_type": "code",
   "execution_count": null,
   "id": "0caf8a1c",
   "metadata": {},
   "outputs": [],
   "source": [
    "from pathlib import Path\n",
    "import sys\n",
    "import polars as pl\n",
    "\n",
    "# ── Set up imports ──────────────────────────────────────────────\n",
    "nb_dir   = Path.cwd()                    # …/notebooks\n",
    "repo_dir = nb_dir.parent\n",
    "sys.path.insert(0, str(repo_dir))\n",
    "\n",
    "from pipeline.datasets import (\n",
    "    SINGLE_FILE_ASSETS_NAMES,\n",
    "    PARTITIONED_ASSETS_NAMES,\n",
    ")\n",
    "from pipeline.utils.polars_sql_wrapper import PolarsSQLWrapper\n",
    "\n",
    "# ── Create the context ─────────────────────────────────────────\n",
    "ctx = PolarsSQLWrapper()\n"
   ]
  },
  {
   "cell_type": "code",
   "execution_count": null,
   "id": "bc4c5560",
   "metadata": {},
   "outputs": [],
   "source": [
    "BASE_PATH = \"data/opendata\"\n",
    "ctx.bulk_register_data(\n",
    "    repo_root=repo_dir,\n",
    "    base_path=BASE_PATH,\n",
    "    table_names=SINGLE_FILE_ASSETS_NAMES,\n",
    "    wildcard=\"*.parquet\",\n",
    ")\n",
    "\n",
    "# ── Register partitioned datasets ──────────────────────────────\n",
    "ctx.bulk_register_partitioned_data(\n",
    "    repo_root=repo_dir,\n",
    "    base_path=BASE_PATH,\n",
    "    table_names=PARTITIONED_ASSETS_NAMES,\n",
    "    wildcard=\"year=*/month=*/*.parquet\",\n",
    ")\n",
    "\n",
    "ctx.show_tables()\n",
    "# You can also peek directly:\n",
    "print(ctx._catalogue.keys())"
   ]
  },
  {
   "cell_type": "code",
   "execution_count": null,
   "id": "058435ed",
   "metadata": {},
   "outputs": [],
   "source": [
    "ctx.show_tables()"
   ]
  },
  {
   "cell_type": "code",
   "execution_count": null,
   "id": "cbeefea3",
   "metadata": {},
   "outputs": [],
   "source": [
    "df = ctx.run_query(\"SELECT COUNT(*) AS n FROM mta_subway_hourly_ridership\")\n",
    "print(df)"
   ]
  },
  {
   "cell_type": "code",
   "execution_count": null,
   "id": "a5ccf706",
   "metadata": {},
   "outputs": [],
   "source": [
    "lf = ctx.lazy(\"mta_subway_hourly_ridership\")"
   ]
  },
  {
   "cell_type": "code",
   "execution_count": null,
   "id": "ff946caa",
   "metadata": {},
   "outputs": [],
   "source": [
    "# e.g. total ridership by borough in 2023\n",
    "df_totals = (\n",
    "    lf\n",
    "    .filter(pl.col(\"transit_timestamp\").dt.year() == 2023)\n",
    "    .group_by(\"borough\")\n",
    "    .agg(pl.col(\"ridership\").sum().alias(\"total_2023\"))\n",
    "    .sort(\"total_2023\", descending=True)\n",
    "    .collect()\n",
    ")\n",
    "print(df_totals)"
   ]
  },
  {
   "cell_type": "code",
   "execution_count": null,
   "id": "3e735b5a",
   "metadata": {},
   "outputs": [],
   "source": [
    "df_avg = (\n",
    "    lf\n",
    "    .filter(\n",
    "        (pl.col(\"transit_timestamp\").dt.year() == 2023) &\n",
    "        (pl.col(\"transit_timestamp\").dt.month().is_between(1, 3))\n",
    "    )\n",
    "    .group_by(\"payment_method\")\n",
    "    .agg(pl.col(\"transfers\").mean().round(2).alias(\"avg_transfers_q1\"))\n",
    "    .sort(\"avg_transfers_q1\", descending=True)\n",
    "    .collect()\n",
    ")\n",
    "print(df_avg)"
   ]
  },
  {
   "cell_type": "code",
   "execution_count": null,
   "id": "3ce12da5",
   "metadata": {},
   "outputs": [],
   "source": [
    "sql = \"\"\"\n",
    "SELECT borough, SUM(ridership) AS total_2023\n",
    "  FROM mta_subway_hourly_ridership\n",
    " WHERE EXTRACT(year FROM transit_timestamp) = 2023\n",
    " GROUP BY borough\n",
    " ORDER BY total_2023 DESC\n",
    "\"\"\"\n",
    "df_sql = ctx.run_query(sql)\n",
    "print(df_sql)"
   ]
  }
 ],
 "metadata": {
  "kernelspec": {
   "display_name": ".venv",
   "language": "python",
   "name": "python3"
  },
  "language_info": {
   "codemirror_mode": {
    "name": "ipython",
    "version": 3
   },
   "file_extension": ".py",
   "mimetype": "text/x-python",
   "name": "python",
   "nbconvert_exporter": "python",
   "pygments_lexer": "ipython3",
   "version": "3.10.16"
  }
 },
 "nbformat": 4,
 "nbformat_minor": 5
}
