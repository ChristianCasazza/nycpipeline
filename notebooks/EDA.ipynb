{
 "cells": [
  {
   "cell_type": "code",
   "execution_count": null,
   "metadata": {},
   "outputs": [],
   "source": [
    "import sys\n",
    "import os\n",
    "from pathlib import Path\n",
    "\n",
    "# Get the root directory by moving up one level from \"notebooks/\"\n",
    "root_dir = os.path.abspath(os.path.join(os.getcwd(), \"..\"))\n",
    "\n",
    "# Add root directory to sys.path\n",
    "sys.path.append(root_dir)\n",
    "\n",
    "# Now you can import using the module path\n",
    "from pipeline.utils.duckdb_wrapper import DuckDBWrapper\n"
   ]
  },
  {
   "cell_type": "code",
   "execution_count": null,
   "metadata": {},
   "outputs": [],
   "source": [
    "# Initialize the DuckDBWrapper (in-memory DuckDB instance) You can connect directly to a DuckDB file by adding the path like con = DuckDBWrapper(\"path/to/file.duckdb\")\n",
    "con = DuckDBWrapper()"
   ]
  },
  {
   "cell_type": "code",
   "execution_count": null,
   "metadata": {},
   "outputs": [],
   "source": [
    "#We import our dataset mapping from pipeline/datasets.py to create views on our parquet files for analysis in our notebook\n",
    "from pathlib import Path\n",
    "import sys\n",
    "\n",
    "nb_dir   = Path.cwd().resolve()           # …/notebooks\n",
    "repo_dir = nb_dir.parent                  # repo root that contains `pipeline/`\n",
    "\n",
    "if str(repo_dir) not in sys.path:\n",
    "    sys.path.insert(0, str(repo_dir))\n",
    "\n",
    "from pipeline.datasets import (\n",
    "    SINGLE_FILE_ASSETS_NAMES,      # -> use for non-partitioned files\n",
    "    PARTITIONED_ASSETS_NAMES       # -> use for partitioned files\n",
    ")\n",
    "\n",
    "\n",
    "base_path = \"data/opendata\"\n",
    "\n",
    "con.bulk_register_data(\n",
    "    repo_root   = repo_dir,\n",
    "    base_path   = base_path,\n",
    "    table_names = SINGLE_FILE_ASSETS_NAMES,       # <-- here\n",
    "    wildcard    = \"*.parquet\",\n",
    "    as_table    = False,\n",
    "    show_tables = False\n",
    ")\n",
    "\n",
    "con.bulk_register_partitioned_data(\n",
    "    repo_root   = repo_dir,\n",
    "    base_path   = base_path,\n",
    "    table_names = PARTITIONED_ASSETS_NAMES,  \n",
    "    wildcard    = \"year=*/month=*/*.parquet\",\n",
    "    as_table    = False,\n",
    "    show_tables = True\n",
    ")"
   ]
  },
  {
   "cell_type": "code",
   "execution_count": null,
   "metadata": {},
   "outputs": [],
   "source": [
    "query = f\"\"\"\n",
    "\n",
    "SELECT * from mta_subway_hourly_ridership limit 20000\n",
    "\n",
    "\"\"\"\n",
    "\n",
    "result = con.run_query(query)\n",
    "\n",
    "print(result)\n"
   ]
  },
  {
   "cell_type": "code",
   "execution_count": null,
   "metadata": {},
   "outputs": [],
   "source": [
    "#If you want a better looking table, set show_results=True. I'd recomend capping the limit at about 50 rows\n",
    "#T\n",
    "\n",
    "query = f\"\"\"\n",
    "\n",
    "SELECT * from mta_subway_hourly_ridership limit 10\n",
    "\"\"\"\n",
    "\n",
    "result = con.run_query(query,show_results=True)\n"
   ]
  },
  {
   "cell_type": "code",
   "execution_count": null,
   "metadata": {},
   "outputs": [],
   "source": [
    "# Show the tables registered\n",
    "con.show_tables()\n"
   ]
  },
  {
   "cell_type": "code",
   "execution_count": null,
   "metadata": {},
   "outputs": [],
   "source": [
    "# Show the schema of a specific table\n",
    "con.show_schema(\"mta_subway_hourly_ridership\")"
   ]
  },
  {
   "cell_type": "code",
   "execution_count": null,
   "metadata": {},
   "outputs": [],
   "source": [
    "query = f\"\"\"\n",
    "\n",
    "SELECT * from mta_subway_hourly_ridership where year=2024 limit 100 \n",
    "\n",
    "\"\"\"\n",
    "\n",
    "result = con.run_query(query)\n",
    "\n",
    "print(result)\n",
    "\n",
    "repo_root = Path.cwd().resolve().parents[0]  # Adjust to locate the repo root\n",
    "base_path = repo_root / \"data/exports\"\n",
    "file_name = \"mta_subway_hourly_ridership_data_sample\"\n",
    "file_type= \"csv\"\n",
    "# Export the query result to CSV\n",
    "con.export(result, file_type=file_type, base_path=base_path, file_name=file_name)"
   ]
  }
 ],
 "metadata": {
  "kernelspec": {
   "display_name": ".venv",
   "language": "python",
   "name": "python3"
  },
  "language_info": {
   "codemirror_mode": {
    "name": "ipython",
    "version": 3
   },
   "file_extension": ".py",
   "mimetype": "text/x-python",
   "name": "python",
   "nbconvert_exporter": "python",
   "pygments_lexer": "ipython3",
   "version": "3.10.16"
  }
 },
 "nbformat": 4,
 "nbformat_minor": 2
}
